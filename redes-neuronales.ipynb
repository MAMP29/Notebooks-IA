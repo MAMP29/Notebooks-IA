{
 "cells": [
  {
   "cell_type": "markdown",
   "id": "eedea4f6-8179-457f-8a48-ea7ccd134687",
   "metadata": {},
   "source": [
    "# Red neuronal\n",
    "\n",
    "En el siguiente notebook se emplean redes neuronales como medida de prediccion"
   ]
  },
  {
   "cell_type": "code",
   "execution_count": 105,
   "id": "13fff585-2fa6-4254-9bff-d67616f189e6",
   "metadata": {},
   "outputs": [],
   "source": [
    "import sklearn\n",
    "import numpy as np\n",
    "import pandas as pd\n",
    "import warnings\n",
    "warnings.filterwarnings('ignore')\n",
    "\n",
    "from sklearn.model_selection import train_test_split\n",
    "from sklearn.pipeline import Pipeline\n",
    "from sklearn.preprocessing import StandardScaler, OneHotEncoder, OrdinalEncoder\n",
    "from sklearn.compose import ColumnTransformer\n",
    "from sklearn.neural_network import MLPClassifier\n",
    "from sklearn.model_selection import cross_val_score\n",
    "from sklearn.metrics import accuracy_score\n",
    "from sklearn.metrics import confusion_matrix\n"
   ]
  },
  {
   "cell_type": "markdown",
   "id": "63f5ce9b-b6f4-4cfc-a6ab-2ec21d79fe78",
   "metadata": {},
   "source": [
    "## Carga de archivo y division"
   ]
  },
  {
   "cell_type": "code",
   "execution_count": 106,
   "id": "3209d967-a52c-4592-8d9f-678b66c5a78a",
   "metadata": {},
   "outputs": [
    {
     "data": {
      "text/html": [
       "<div>\n",
       "<style scoped>\n",
       "    .dataframe tbody tr th:only-of-type {\n",
       "        vertical-align: middle;\n",
       "    }\n",
       "\n",
       "    .dataframe tbody tr th {\n",
       "        vertical-align: top;\n",
       "    }\n",
       "\n",
       "    .dataframe thead th {\n",
       "        text-align: right;\n",
       "    }\n",
       "</style>\n",
       "<table border=\"1\" class=\"dataframe\">\n",
       "  <thead>\n",
       "    <tr style=\"text-align: right;\">\n",
       "      <th></th>\n",
       "      <th>Gender</th>\n",
       "      <th>Age</th>\n",
       "      <th>CGPA</th>\n",
       "      <th>Sleep Duration</th>\n",
       "      <th>Degree</th>\n",
       "      <th>Suicidal Thoughts</th>\n",
       "      <th>Work/Study Hours</th>\n",
       "      <th>Family History of Mental Illness</th>\n",
       "      <th>Depression</th>\n",
       "    </tr>\n",
       "  </thead>\n",
       "  <tbody>\n",
       "    <tr>\n",
       "      <th>0</th>\n",
       "      <td>Male</td>\n",
       "      <td>33.0</td>\n",
       "      <td>8.97</td>\n",
       "      <td>5-6 hours</td>\n",
       "      <td>Undergraduate</td>\n",
       "      <td>Yes</td>\n",
       "      <td>3.0</td>\n",
       "      <td>No</td>\n",
       "      <td>1</td>\n",
       "    </tr>\n",
       "    <tr>\n",
       "      <th>1</th>\n",
       "      <td>Female</td>\n",
       "      <td>24.0</td>\n",
       "      <td>5.90</td>\n",
       "      <td>5-6 hours</td>\n",
       "      <td>Undergraduate</td>\n",
       "      <td>No</td>\n",
       "      <td>3.0</td>\n",
       "      <td>Yes</td>\n",
       "      <td>0</td>\n",
       "    </tr>\n",
       "    <tr>\n",
       "      <th>2</th>\n",
       "      <td>Male</td>\n",
       "      <td>31.0</td>\n",
       "      <td>7.03</td>\n",
       "      <td>Less than 5 hours</td>\n",
       "      <td>Undergraduate</td>\n",
       "      <td>No</td>\n",
       "      <td>9.0</td>\n",
       "      <td>Yes</td>\n",
       "      <td>0</td>\n",
       "    </tr>\n",
       "    <tr>\n",
       "      <th>3</th>\n",
       "      <td>Female</td>\n",
       "      <td>28.0</td>\n",
       "      <td>5.59</td>\n",
       "      <td>7-8 hours</td>\n",
       "      <td>Undergraduate</td>\n",
       "      <td>Yes</td>\n",
       "      <td>4.0</td>\n",
       "      <td>Yes</td>\n",
       "      <td>1</td>\n",
       "    </tr>\n",
       "    <tr>\n",
       "      <th>4</th>\n",
       "      <td>Female</td>\n",
       "      <td>25.0</td>\n",
       "      <td>8.13</td>\n",
       "      <td>5-6 hours</td>\n",
       "      <td>Postgraduate</td>\n",
       "      <td>Yes</td>\n",
       "      <td>1.0</td>\n",
       "      <td>No</td>\n",
       "      <td>0</td>\n",
       "    </tr>\n",
       "  </tbody>\n",
       "</table>\n",
       "</div>"
      ],
      "text/plain": [
       "   Gender   Age  CGPA     Sleep Duration         Degree Suicidal Thoughts  \\\n",
       "0    Male  33.0  8.97          5-6 hours  Undergraduate               Yes   \n",
       "1  Female  24.0  5.90          5-6 hours  Undergraduate                No   \n",
       "2    Male  31.0  7.03  Less than 5 hours  Undergraduate                No   \n",
       "3  Female  28.0  5.59          7-8 hours  Undergraduate               Yes   \n",
       "4  Female  25.0  8.13          5-6 hours   Postgraduate               Yes   \n",
       "\n",
       "   Work/Study Hours Family History of Mental Illness  Depression  \n",
       "0               3.0                               No           1  \n",
       "1               3.0                              Yes           0  \n",
       "2               9.0                              Yes           0  \n",
       "3               4.0                              Yes           1  \n",
       "4               1.0                               No           0  "
      ]
     },
     "execution_count": 106,
     "metadata": {},
     "output_type": "execute_result"
    }
   ],
   "source": [
    "data = pd.read_csv('depression.csv')\n",
    "data.head()"
   ]
  },
  {
   "cell_type": "code",
   "execution_count": 107,
   "id": "c38ae56b-442e-49b9-9345-d260d929496b",
   "metadata": {},
   "outputs": [
    {
     "name": "stdout",
     "output_type": "stream",
     "text": [
      "27901 22320 5581\n"
     ]
    }
   ],
   "source": [
    "# Determinamos los porcentajes a dividir\n",
    "NumData = len(data)\n",
    "cTrain = int (NumData*0.8)\n",
    "cTest = NumData-cTrain\n",
    "print(NumData,cTrain,cTest)"
   ]
  },
  {
   "cell_type": "code",
   "execution_count": 108,
   "id": "103c24c9-ffd7-4415-af27-0506da9e7775",
   "metadata": {},
   "outputs": [],
   "source": [
    "train_data, test_data = sklearn.model_selection.train_test_split(data, train_size=cTrain, test_size=cTest)"
   ]
  },
  {
   "cell_type": "code",
   "execution_count": 109,
   "id": "3816c7fe-0c3b-45f7-8a22-30dae2e41cf6",
   "metadata": {},
   "outputs": [
    {
     "data": {
      "text/plain": [
       "(22320, 9)"
      ]
     },
     "execution_count": 109,
     "metadata": {},
     "output_type": "execute_result"
    }
   ],
   "source": [
    "train_data.shape"
   ]
  },
  {
   "cell_type": "code",
   "execution_count": 110,
   "id": "7550fa87-b889-4da3-93e1-57044b9180c4",
   "metadata": {},
   "outputs": [
    {
     "data": {
      "text/plain": [
       "(5581, 9)"
      ]
     },
     "execution_count": 110,
     "metadata": {},
     "output_type": "execute_result"
    }
   ],
   "source": [
    "test_data.shape"
   ]
  },
  {
   "cell_type": "markdown",
   "id": "fe3155ca-bd94-4050-a375-4180cf813077",
   "metadata": {},
   "source": [
    "## Identificación de variables numéricas y categóricas"
   ]
  },
  {
   "cell_type": "code",
   "execution_count": 111,
   "id": "b68fb1de-5832-4f25-b314-b7fe90ff89da",
   "metadata": {},
   "outputs": [
    {
     "data": {
      "text/html": [
       "<div>\n",
       "<style scoped>\n",
       "    .dataframe tbody tr th:only-of-type {\n",
       "        vertical-align: middle;\n",
       "    }\n",
       "\n",
       "    .dataframe tbody tr th {\n",
       "        vertical-align: top;\n",
       "    }\n",
       "\n",
       "    .dataframe thead th {\n",
       "        text-align: right;\n",
       "    }\n",
       "</style>\n",
       "<table border=\"1\" class=\"dataframe\">\n",
       "  <thead>\n",
       "    <tr style=\"text-align: right;\">\n",
       "      <th></th>\n",
       "      <th>Age</th>\n",
       "      <th>CGPA</th>\n",
       "      <th>Work/Study Hours</th>\n",
       "    </tr>\n",
       "  </thead>\n",
       "  <tbody>\n",
       "    <tr>\n",
       "      <th>count</th>\n",
       "      <td>22320.000000</td>\n",
       "      <td>22320.000000</td>\n",
       "      <td>22320.000000</td>\n",
       "    </tr>\n",
       "    <tr>\n",
       "      <th>mean</th>\n",
       "      <td>25.841353</td>\n",
       "      <td>7.656553</td>\n",
       "      <td>7.161559</td>\n",
       "    </tr>\n",
       "    <tr>\n",
       "      <th>std</th>\n",
       "      <td>4.904506</td>\n",
       "      <td>1.469377</td>\n",
       "      <td>3.713383</td>\n",
       "    </tr>\n",
       "    <tr>\n",
       "      <th>min</th>\n",
       "      <td>18.000000</td>\n",
       "      <td>0.000000</td>\n",
       "      <td>0.000000</td>\n",
       "    </tr>\n",
       "    <tr>\n",
       "      <th>25%</th>\n",
       "      <td>21.000000</td>\n",
       "      <td>6.280000</td>\n",
       "      <td>4.000000</td>\n",
       "    </tr>\n",
       "    <tr>\n",
       "      <th>50%</th>\n",
       "      <td>26.000000</td>\n",
       "      <td>7.770000</td>\n",
       "      <td>8.000000</td>\n",
       "    </tr>\n",
       "    <tr>\n",
       "      <th>75%</th>\n",
       "      <td>30.000000</td>\n",
       "      <td>8.920000</td>\n",
       "      <td>10.000000</td>\n",
       "    </tr>\n",
       "    <tr>\n",
       "      <th>max</th>\n",
       "      <td>59.000000</td>\n",
       "      <td>10.000000</td>\n",
       "      <td>12.000000</td>\n",
       "    </tr>\n",
       "  </tbody>\n",
       "</table>\n",
       "</div>"
      ],
      "text/plain": [
       "                Age          CGPA  Work/Study Hours\n",
       "count  22320.000000  22320.000000      22320.000000\n",
       "mean      25.841353      7.656553          7.161559\n",
       "std        4.904506      1.469377          3.713383\n",
       "min       18.000000      0.000000          0.000000\n",
       "25%       21.000000      6.280000          4.000000\n",
       "50%       26.000000      7.770000          8.000000\n",
       "75%       30.000000      8.920000         10.000000\n",
       "max       59.000000     10.000000         12.000000"
      ]
     },
     "execution_count": 111,
     "metadata": {},
     "output_type": "execute_result"
    }
   ],
   "source": [
    "# Variables númericas\n",
    "num_attribs = [\"Age\", \"CGPA\", \"Work/Study Hours\"]\n",
    "\n",
    "train_data[num_attribs].describe()"
   ]
  },
  {
   "cell_type": "code",
   "execution_count": 112,
   "id": "b2d4edb2-e970-40ea-9d52-ac15f08ae81b",
   "metadata": {},
   "outputs": [
    {
     "data": {
      "text/html": [
       "<div>\n",
       "<style scoped>\n",
       "    .dataframe tbody tr th:only-of-type {\n",
       "        vertical-align: middle;\n",
       "    }\n",
       "\n",
       "    .dataframe tbody tr th {\n",
       "        vertical-align: top;\n",
       "    }\n",
       "\n",
       "    .dataframe thead th {\n",
       "        text-align: right;\n",
       "    }\n",
       "</style>\n",
       "<table border=\"1\" class=\"dataframe\">\n",
       "  <thead>\n",
       "    <tr style=\"text-align: right;\">\n",
       "      <th></th>\n",
       "      <th>Gender</th>\n",
       "      <th>Sleep Duration</th>\n",
       "      <th>Degree</th>\n",
       "      <th>Family History of Mental Illness</th>\n",
       "    </tr>\n",
       "  </thead>\n",
       "  <tbody>\n",
       "    <tr>\n",
       "      <th>count</th>\n",
       "      <td>22320</td>\n",
       "      <td>22320</td>\n",
       "      <td>22320</td>\n",
       "      <td>22320</td>\n",
       "    </tr>\n",
       "    <tr>\n",
       "      <th>unique</th>\n",
       "      <td>2</td>\n",
       "      <td>5</td>\n",
       "      <td>5</td>\n",
       "      <td>2</td>\n",
       "    </tr>\n",
       "    <tr>\n",
       "      <th>top</th>\n",
       "      <td>Male</td>\n",
       "      <td>Less than 5 hours</td>\n",
       "      <td>Undergraduate</td>\n",
       "      <td>No</td>\n",
       "    </tr>\n",
       "    <tr>\n",
       "      <th>freq</th>\n",
       "      <td>12467</td>\n",
       "      <td>6674</td>\n",
       "      <td>10125</td>\n",
       "      <td>11468</td>\n",
       "    </tr>\n",
       "  </tbody>\n",
       "</table>\n",
       "</div>"
      ],
      "text/plain": [
       "       Gender     Sleep Duration         Degree  \\\n",
       "count   22320              22320          22320   \n",
       "unique      2                  5              5   \n",
       "top      Male  Less than 5 hours  Undergraduate   \n",
       "freq    12467               6674          10125   \n",
       "\n",
       "       Family History of Mental Illness  \n",
       "count                             22320  \n",
       "unique                                2  \n",
       "top                                  No  \n",
       "freq                              11468  "
      ]
     },
     "execution_count": 112,
     "metadata": {},
     "output_type": "execute_result"
    }
   ],
   "source": [
    "# Variables categoricas\n",
    "\n",
    "cat_attribs = [\"Gender\", \"Sleep Duration\", \"Degree\", \"Family History of Mental Illness\"]\n",
    "cat_attribs_st = [\"Suicidal Thoughts\"]\n",
    "train_data[cat_attribs].describe()"
   ]
  },
  {
   "cell_type": "markdown",
   "id": "460bcdc1-50e3-48cf-8160-616a35ac4254",
   "metadata": {},
   "source": [
    "## Construcción de los pipelines"
   ]
  },
  {
   "cell_type": "code",
   "execution_count": 113,
   "id": "3899de61-83ef-4d87-867f-3d4a78ddde36",
   "metadata": {},
   "outputs": [],
   "source": [
    "# Pipeline para atributos numéricos\n",
    "\n",
    "num_pipeline = Pipeline([\n",
    "    # Sin imputer, como vimos en el EDA, no hay datos faltantes\n",
    "    (\"scaler\", StandardScaler()) # Usaremos el StandarScaler, el mas común\n",
    "])"
   ]
  },
  {
   "cell_type": "code",
   "execution_count": 114,
   "id": "5c50b597-5c97-411d-8172-222df65fe563",
   "metadata": {},
   "outputs": [],
   "source": [
    "# Pipeline para atributos categoricos\n",
    "\n",
    "cat_pipeline = Pipeline([\n",
    "    # Sin valores faltantes\n",
    "    (\"cat_encoder\", OneHotEncoder(sparse_output=False)) # Usaremos OneHotEnconder\n",
    "])"
   ]
  },
  {
   "cell_type": "code",
   "execution_count": 115,
   "id": "f53b33d1-7e81-4bdb-996e-b9b6e91d6744",
   "metadata": {},
   "outputs": [],
   "source": [
    "# Pipeline con ordinal enconder para datos con pensamientos suicidas registrados, debido a que \n",
    "# según el EDA y logica del mundo real las personas con esto tienden a tener depresión, por lo\n",
    "# tanto se añade una ligera preferencia a los que han tenido\n",
    "catS_pipeline = Pipeline([\n",
    "    (\"encoder\", OrdinalEncoder())\n",
    "])"
   ]
  },
  {
   "cell_type": "markdown",
   "id": "c3339091-589e-42d3-9ecb-ba581a0e624c",
   "metadata": {},
   "source": [
    "### Pipeline completo"
   ]
  },
  {
   "cell_type": "code",
   "execution_count": 116,
   "id": "9c41c870-cb00-4f4f-97f4-43e94026f51e",
   "metadata": {},
   "outputs": [],
   "source": [
    "full_pipeline = ColumnTransformer([\n",
    "    (\"num\", num_pipeline, num_attribs),\n",
    "    (\"cat\", cat_pipeline, cat_attribs),\n",
    "    (\"catS\", catS_pipeline, cat_attribs_st)\n",
    "])"
   ]
  },
  {
   "cell_type": "markdown",
   "id": "384a3ba2-c0b1-4d30-8dd0-dcd038df5ebc",
   "metadata": {},
   "source": [
    "### Separacion de datos\n",
    "\n",
    "Separaremos los datos para entrenar y para los tests"
   ]
  },
  {
   "cell_type": "markdown",
   "id": "6d6d3f0d-66ce-4320-8c0b-f689eb4f2643",
   "metadata": {},
   "source": [
    "**Entrenamiento:**"
   ]
  },
  {
   "cell_type": "code",
   "execution_count": 117,
   "id": "e5bfd629-011f-4e13-9f23-8fede8bc1307",
   "metadata": {},
   "outputs": [],
   "source": [
    "X_train = full_pipeline.fit_transform(train_data)"
   ]
  },
  {
   "cell_type": "code",
   "execution_count": 118,
   "id": "4d4c7444-7f79-43e2-99f5-d27da8022500",
   "metadata": {},
   "outputs": [
    {
     "data": {
      "text/plain": [
       "(22320, 18)"
      ]
     },
     "execution_count": 118,
     "metadata": {},
     "output_type": "execute_result"
    }
   ],
   "source": [
    "X_train.shape"
   ]
  },
  {
   "cell_type": "code",
   "execution_count": 119,
   "id": "50a8e369-b70f-4dbb-a3fd-baf3cd326324",
   "metadata": {},
   "outputs": [
    {
     "data": {
      "text/plain": [
       "array([ 0.84794271,  0.39027391, -1.92862411,  0.        ,  1.        ,\n",
       "        0.        ,  0.        ,  0.        ,  1.        ,  0.        ,\n",
       "        1.        ,  0.        ,  0.        ,  0.        ,  0.        ,\n",
       "        1.        ,  0.        ,  0.        ])"
      ]
     },
     "execution_count": 119,
     "metadata": {},
     "output_type": "execute_result"
    }
   ],
   "source": [
    "X_train[0,:]"
   ]
  },
  {
   "cell_type": "code",
   "execution_count": 120,
   "id": "1254e45f-8da5-4895-909c-5f4d0538bd33",
   "metadata": {},
   "outputs": [
    {
     "data": {
      "text/plain": [
       "283      0\n",
       "6919     1\n",
       "27325    0\n",
       "14732    1\n",
       "24938    0\n",
       "        ..\n",
       "9828     1\n",
       "25575    1\n",
       "21567    0\n",
       "26909    1\n",
       "3635     1\n",
       "Name: Depression, Length: 22320, dtype: int64"
      ]
     },
     "execution_count": 120,
     "metadata": {},
     "output_type": "execute_result"
    }
   ],
   "source": [
    "y_train = train_data[\"Depression\"]\n",
    "y_train"
   ]
  },
  {
   "cell_type": "markdown",
   "id": "a3d77728-6b4a-48db-a73d-a42b5db593d3",
   "metadata": {},
   "source": [
    "**Pruebas:**"
   ]
  },
  {
   "cell_type": "code",
   "execution_count": 121,
   "id": "edb967c0-0b14-4691-8b89-e79fa78f836a",
   "metadata": {},
   "outputs": [
    {
     "data": {
      "text/plain": [
       "array([[ 0.64404401,  0.39707967,  0.76439856, ...,  0.        ,\n",
       "         1.        ,  0.        ],\n",
       "       [-0.98714559, -0.84837396,  0.22579402, ...,  1.        ,\n",
       "         0.        ,  0.        ],\n",
       "       [-0.17155079, -1.69909365, -0.31281051, ...,  0.        ,\n",
       "         1.        ,  0.        ],\n",
       "       ...,\n",
       "       [-1.39494299,  0.66930997,  0.49509629, ...,  1.        ,\n",
       "         0.        ,  1.        ],\n",
       "       [-1.19104429,  0.58764088, -0.85141504, ...,  0.        ,\n",
       "         1.        ,  1.        ],\n",
       "       [-1.19104429,  1.07765542, -0.58211278, ...,  1.        ,\n",
       "         0.        ,  1.        ]], shape=(5581, 18))"
      ]
     },
     "execution_count": 121,
     "metadata": {},
     "output_type": "execute_result"
    }
   ],
   "source": [
    "X_test = full_pipeline.transform(test_data)\n",
    "X_test"
   ]
  },
  {
   "cell_type": "code",
   "execution_count": 122,
   "id": "70187e96-b76f-49ca-b548-47a84b5f6d45",
   "metadata": {},
   "outputs": [
    {
     "data": {
      "text/plain": [
       "(5581, 18)"
      ]
     },
     "execution_count": 122,
     "metadata": {},
     "output_type": "execute_result"
    }
   ],
   "source": [
    "X_test.shape"
   ]
  },
  {
   "cell_type": "code",
   "execution_count": 123,
   "id": "a077fdef-fa34-4812-b540-6d6ebac9f107",
   "metadata": {},
   "outputs": [
    {
     "data": {
      "text/plain": [
       "21469    1\n",
       "23715    0\n",
       "21552    1\n",
       "14534    0\n",
       "13724    0\n",
       "        ..\n",
       "24278    0\n",
       "6852     1\n",
       "14656    1\n",
       "13054    0\n",
       "27139    1\n",
       "Name: Depression, Length: 5581, dtype: int64"
      ]
     },
     "execution_count": 123,
     "metadata": {},
     "output_type": "execute_result"
    }
   ],
   "source": [
    "y_test = test_data[\"Depression\"]\n",
    "y_test"
   ]
  },
  {
   "cell_type": "markdown",
   "id": "2589d1b9-2942-4750-81b9-d9b6bc0244d4",
   "metadata": {},
   "source": [
    "## Creación y entrenamiento de las redes neuronales"
   ]
  },
  {
   "cell_type": "code",
   "execution_count": 146,
   "id": "968b1b1b-0951-4b03-af12-df3dd61aab2b",
   "metadata": {},
   "outputs": [],
   "source": [
    "model_configs = [\n",
    "    {\"activation\": \"logistic\", \"solver\": \"adam\", \"hidden_layer_sizes\": (5,)},\n",
    "    {\"activation\": \"logistic\", \"solver\": \"adam\", \"hidden_layer_sizes\": (15,5)},\n",
    "    {\"activation\": \"relu\", \"solver\": \"lbfgs\", \"hidden_layer_sizes\": (28, 10, 5)},\n",
    "    {\"activation\": \"tanh\", \"solver\": \"adam\", \"hidden_layer_sizes\": (40,)},\n",
    "    {\"activation\": \"relu\", \"solver\": \"adam\", \"hidden_layer_sizes\": (40, 15)},\n",
    "]"
   ]
  },
  {
   "cell_type": "code",
   "execution_count": 147,
   "id": "628e2a6f-912c-4f78-8a20-51b7fe4d2744",
   "metadata": {},
   "outputs": [
    {
     "name": "stdout",
     "output_type": "stream",
     "text": [
      "Modelo 1: Accuracy promedio = 0.7846\n",
      "Modelo 2: Accuracy promedio = 0.7852\n",
      "Modelo 3: Accuracy promedio = 0.7818\n",
      "Modelo 4: Accuracy promedio = 0.7848\n",
      "Modelo 5: Accuracy promedio = 0.7790\n"
     ]
    }
   ],
   "source": [
    "model_list = []\n",
    "\n",
    "for i, config in enumerate(model_configs, 1):\n",
    "    model = MLPClassifier(**config, alpha=1e-5, random_state=123)\n",
    "    model.fit(X_train, y_train)\n",
    "    model_list.append(model)\n",
    "    scores = cross_val_score(model, X_train, y_train, cv=5, scoring=\"accuracy\")\n",
    "    print(f\"Modelo {i}: Accuracy promedio = {scores.mean():.4f}\")"
   ]
  },
  {
   "cell_type": "markdown",
   "id": "12dff883-1e95-43ac-b851-cd18662d8b73",
   "metadata": {},
   "source": [
    "## Analizando desempeño en el conjunto de prueba"
   ]
  },
  {
   "cell_type": "code",
   "execution_count": 149,
   "id": "c6b565f4-abd7-4c4e-9eb1-c7f5705ef11d",
   "metadata": {},
   "outputs": [],
   "source": [
    "y_pred_list = [] \n",
    "for i, model in enumerate(model_list, 1):\n",
    "    y_pred = model.predict(X_test)\n",
    "    y_pred_list.append(y_pred)"
   ]
  },
  {
   "cell_type": "markdown",
   "id": "72d3c800-bd5c-4107-a5c0-7fb70614311f",
   "metadata": {},
   "source": [
    "### Calculando la precisión y matriz de confusión"
   ]
  },
  {
   "cell_type": "code",
   "execution_count": 150,
   "id": "a57dbe41-2675-4573-8d59-c4651c59e54f",
   "metadata": {},
   "outputs": [
    {
     "name": "stdout",
     "output_type": "stream",
     "text": [
      "Modelo 1: Accuracy Score = 0.7850\n",
      "Modelo 2: Accuracy Score = 0.7839\n",
      "Modelo 3: Accuracy Score = 0.7839\n",
      "Modelo 4: Accuracy Score = 0.7827\n",
      "Modelo 5: Accuracy Score = 0.7789\n"
     ]
    }
   ],
   "source": [
    "for i, y_pred in enumerate(y_pred_list, 1):\n",
    "    accs = accuracy_score(y_test, y_pred)\n",
    "    print(f\"Modelo {i}: Accuracy Score = {accs:.4f}\")"
   ]
  },
  {
   "cell_type": "code",
   "execution_count": 151,
   "id": "f0c24df9-18ca-42a2-bb4d-2b3a649edee6",
   "metadata": {},
   "outputs": [
    {
     "name": "stdout",
     "output_type": "stream",
     "text": [
      "Modelo 1: Matriz de confusión = [[1581  718]\n",
      " [ 482 2800]]\n",
      "Modelo 2: Matriz de confusión = [[1582  717]\n",
      " [ 489 2793]]\n",
      "Modelo 3: Matriz de confusión = [[1579  720]\n",
      " [ 486 2796]]\n",
      "Modelo 4: Matriz de confusión = [[1610  689]\n",
      " [ 524 2758]]\n",
      "Modelo 5: Matriz de confusión = [[1548  751]\n",
      " [ 483 2799]]\n"
     ]
    }
   ],
   "source": [
    "for i, y_pred in enumerate(y_pred_list, 1):\n",
    "    conmatrix = confusion_matrix(y_test, y_pred)\n",
    "    print(f\"Modelo {i}: Matriz de confusión = {conmatrix}\")"
   ]
  },
  {
   "cell_type": "markdown",
   "id": "87559184-b6ee-4287-ba0e-759e992918ce",
   "metadata": {},
   "source": [
    "El mejor modelo con una precisión del 78.25% con datos de prueba tiene los siguientes hiperparametros:\n",
    "\n",
    "- Funcion de activación: logistic\n",
    "- optimizador: adam\n",
    "- capas ocultas: 15,5"
   ]
  },
  {
   "cell_type": "markdown",
   "id": "47572f36-f266-4c65-8dda-f14163cba067",
   "metadata": {},
   "source": [
    "## Variación de hiperparametros\n",
    "\n",
    "A continuacion crearemos dos modelos adicionales con los parametros base del modelo que obtuvo la mejor precision con el objetivo de variar un hiperparametro y examinar si hay mejoria, el hiperparametro a variar es uno muy conocido en las redes neuronales muy relacionado al solver, la taza de aprendizaje inicial la cual es utilizada por los optimizadores que actualizan pesos iterativamente.\n",
    "\n",
    "Un valor muy alto puede hacer que el modelo no converja (salte soluciones óptimas) y un valor muy bajo puede hacer que tarde mucho en converger o quede atascado en mínimos locales. Por lo que vale la pena investigarlo"
   ]
  },
  {
   "cell_type": "code",
   "execution_count": 152,
   "id": "fe233b3b-bb6f-48f3-8458-16bd6fc4e317",
   "metadata": {},
   "outputs": [],
   "source": [
    "model_variation = [\n",
    "    {\"activation\": \"logistic\", \"solver\": \"adam\", \"hidden_layer_sizes\": (5,), \"learning_rate_init\": 0.0001},\n",
    "    {\"activation\": \"logistic\", \"solver\": \"adam\", \"hidden_layer_sizes\": (5,), \"learning_rate_init\": 0.1},\n",
    "]"
   ]
  },
  {
   "cell_type": "code",
   "execution_count": 153,
   "id": "2603095f-36e8-452d-9c44-b00b87a34f6c",
   "metadata": {},
   "outputs": [
    {
     "name": "stdout",
     "output_type": "stream",
     "text": [
      "Modelo 1: Accuracy promedio = 0.7819\n",
      "Modelo 2: Accuracy promedio = 0.7818\n"
     ]
    }
   ],
   "source": [
    "model_variation_list = []\n",
    "\n",
    "for i, config in enumerate(model_variation, 1):\n",
    "    model = MLPClassifier(**config, alpha=1e-5, random_state=123)\n",
    "    model.fit(X_train, y_train)\n",
    "    model_variation_list.append(model)\n",
    "    scores = cross_val_score(model, X_train, y_train, cv=5, scoring=\"accuracy\")\n",
    "    print(f\"Modelo {i}: Accuracy promedio = {scores.mean():.4f}\")"
   ]
  },
  {
   "cell_type": "code",
   "execution_count": 145,
   "id": "e24cd4a5-f96e-4e46-bfb6-9c8f9250aaaa",
   "metadata": {},
   "outputs": [
    {
     "name": "stdout",
     "output_type": "stream",
     "text": [
      "     Modelo  Accuracy\n",
      "0  Modelo 1    0.7875\n",
      "1  Modelo 2    0.7852\n"
     ]
    }
   ],
   "source": [
    "# Evaluamos cada modelo sobre X_test y almacenamos el accuracy\n",
    "results_variation = []\n",
    "for idx, model in enumerate(model_variation_list, 1):\n",
    "    y_pred = model.predict(X_test)\n",
    "    acc = accuracy_score(y_test, y_pred)\n",
    "    results_variation.append({\"Modelo\": f\"Modelo {idx}\", \"Accuracy\": round(acc,4)})\n",
    "\n",
    "# Convertimos a DataFrame y ordenamos de mayor a menor accuracy\n",
    "df_results = pd.DataFrame(results_variation).sort_values(by=\"Accuracy\", ascending=False).reset_index(drop=True)\n",
    "\n",
    "# Mostramos la tabla\n",
    "print(df_results)"
   ]
  },
  {
   "cell_type": "markdown",
   "id": "905dbad7-3bcb-49bd-afd4-2e5afabc9cab",
   "metadata": {},
   "source": [
    "## Analisis \n",
    "\n",
    "Podemos observar cómo el modelo con una tasa mucho menor a la por defecto (learning_rate_init = 0.0001) tiene un mejor comportamiento, aunque la mejora en el accuracy es ligera. Esto indica que, para esta arquitectura y conjunto de datos, un aprendizaje más lento permite una convergencia más estable. Por otro lado, al incrementar la tasa a 0.1, el rendimiento disminuyó ligeramente, lo cual sugiere que una tasa de aprendizaje demasiado alta puede afectar negativamente la capacidad del modelo para ajustarse correctamente a los datos.\n",
    "\n",
    "En general, se concluye que el valor por defecto (0.001) ya ofrece un buen equilibrio, pero reducirlo puede ser una opción válida para optimizar la precisión en tareas sensibles como la predicción de síntomas depresivos. Aun así, el impacto observado no fue significativo, lo que evidencia que, bajo un preprocesamiento adecuado y una red simple, el modelo es bastante robusto frente a pequeñas variaciones de este hiperparámetro.\n",
    "\n"
   ]
  }
 ],
 "metadata": {
  "kernelspec": {
   "display_name": "Python 3 (ipykernel)",
   "language": "python",
   "name": "python3"
  },
  "language_info": {
   "codemirror_mode": {
    "name": "ipython",
    "version": 3
   },
   "file_extension": ".py",
   "mimetype": "text/x-python",
   "name": "python",
   "nbconvert_exporter": "python",
   "pygments_lexer": "ipython3",
   "version": "3.13.3"
  }
 },
 "nbformat": 4,
 "nbformat_minor": 5
}
